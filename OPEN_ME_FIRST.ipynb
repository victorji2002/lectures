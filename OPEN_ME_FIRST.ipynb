{
 "cells": [
  {
   "cell_type": "markdown",
   "metadata": {},
   "source": [
    "# Let's set up your envrionment"
   ]
  },
  {
   "cell_type": "markdown",
   "metadata": {},
   "source": [
    "### Import necessary libraries \n",
    "*(click the *play* button in the toolbar above to execute a cell)*"
   ]
  },
  {
   "cell_type": "code",
   "execution_count": 1,
   "metadata": {},
   "outputs": [],
   "source": [
    "#!pip install ipywidgets tqdm "
   ]
  },
  {
   "cell_type": "code",
   "execution_count": 2,
   "metadata": {
    "tags": []
   },
   "outputs": [],
   "source": [
    "import json\n",
    "import os\n",
    "import shutil\n",
    "import datetime\n",
    "import pandas as pd\n",
    "\n",
    "import ipywidgets as widgets"
   ]
  },
  {
   "cell_type": "markdown",
   "metadata": {
    "tags": []
   },
   "source": [
    "### 1. Which section are you in?"
   ]
  },
  {
   "cell_type": "code",
   "execution_count": 3,
   "metadata": {
    "tags": []
   },
   "outputs": [
    {
     "data": {
      "application/vnd.jupyter.widget-view+json": {
       "model_id": "fa67cb57afa64d1cb485c18d7daceb6b",
       "version_major": 2,
       "version_minor": 0
      },
      "text/plain": [
       "Dropdown(description='Section:', index=1, options=('Monday', 'Tuesday', 'Wednesday', 'Thursday', 'Friday', 'Sa…"
      ]
     },
     "execution_count": 3,
     "metadata": {},
     "output_type": "execute_result"
    }
   ],
   "source": [
    "student_section = widgets.Dropdown(\n",
    "    options=['Monday', 'Tuesday', 'Wednesday', 'Thursday', 'Friday', 'Saturday'],\n",
    "    value='Tuesday',\n",
    "    description='Section:',\n",
    "    disabled=False,\n",
    ")\n",
    "student_section"
   ]
  },
  {
   "cell_type": "code",
   "execution_count": 4,
   "metadata": {},
   "outputs": [],
   "source": [
    "#student_section.value = \"Monday\""
   ]
  },
  {
   "cell_type": "code",
   "execution_count": 5,
   "metadata": {},
   "outputs": [
    {
     "data": {
      "text/plain": [
       "'Tuesday'"
      ]
     },
     "execution_count": 5,
     "metadata": {},
     "output_type": "execute_result"
    }
   ],
   "source": [
    "student_section.value"
   ]
  },
  {
   "cell_type": "markdown",
   "metadata": {},
   "source": [
    "### 2. What is your name?"
   ]
  },
  {
   "cell_type": "code",
   "execution_count": 6,
   "metadata": {
    "tags": []
   },
   "outputs": [],
   "source": [
    "student_name = \"Victor Ji\""
   ]
  },
  {
   "cell_type": "markdown",
   "metadata": {},
   "source": [
    "### 3. Set up postcell"
   ]
  },
  {
   "cell_type": "code",
   "execution_count": 7,
   "metadata": {},
   "outputs": [],
   "source": [
    "# class_name     = \"python_for_datascience\"\n",
    "#class_name     = \"python_for_mlengineering\"\n",
    "class_name     = \"python_for_financial_datascience\"\n",
    "\n",
    "class_time_period  = \"2025_september\""
   ]
  },
  {
   "cell_type": "code",
   "execution_count": 8,
   "metadata": {
    "tags": []
   },
   "outputs": [
    {
     "name": "stdout",
     "output_type": "stream",
     "text": [
      "Victor_Ji\n",
      "2025_september_tuesday_python_for_financial_datascience\n"
     ]
    }
   ],
   "source": [
    "#Set up template\n",
    "if not os.path.isfile('postcell.conf'):\n",
    "    shutil.copyfile('postcell.conf.bak', 'postcell.conf')\n",
    "\n",
    "#Open config file\n",
    "with open('postcell.conf', 'rt') as conf:\n",
    "    parsedj = json.load(conf)\n",
    "    #print(parsedj['student_id'])\n",
    "    #print(parsedj['class_id'])\n",
    "    \n",
    "#Set student name\n",
    "parsedj['student_id'] = student_name.strip().replace(' ', '_')\n",
    "\n",
    "#Set class name\n",
    "class_id = f\"{class_time_period}_{student_section.value.lower()}_{class_name}\"\n",
    "parsedj['class_id'] = class_id\n",
    "\n",
    "#Write config file\n",
    "#TODO: change should_send_to_server to true, set default to be false in .bak file\n",
    "with open('postcell.conf', 'wt') as conf:\n",
    "    json.dump(parsedj, conf, indent=4, sort_keys=True)\n",
    "    \n",
    "# Confirm your config\n",
    "with open('postcell.conf', 'rt') as conf:\n",
    "    parsedj = json.load(conf)\n",
    "    print(parsedj['student_id'])\n",
    "    print(parsedj['class_id'])"
   ]
  },
  {
   "cell_type": "markdown",
   "metadata": {},
   "source": [
    "### 4. Install the postcell magic command"
   ]
  },
  {
   "cell_type": "code",
   "execution_count": 9,
   "metadata": {},
   "outputs": [],
   "source": [
    "!pip install postcell -U --quiet"
   ]
  },
  {
   "cell_type": "code",
   "execution_count": 10,
   "metadata": {
    "tags": []
   },
   "outputs": [
    {
     "name": "stdout",
     "output_type": "stream",
     "text": [
      "PostCell loaded\n",
      "Loading config file from /Users/victorji/Documents/GitHub/lectures/postcell.conf\n",
      "Registered user Victor_Ji at https://postcell.io/post_cell\n"
     ]
    }
   ],
   "source": [
    "%reload_ext postcell\n",
    "%postcell register"
   ]
  },
  {
   "cell_type": "code",
   "execution_count": 11,
   "metadata": {
    "tags": []
   },
   "outputs": [
    {
     "name": "stdout",
     "output_type": "stream",
     "text": [
      "Cell posted for evaluation\n"
     ]
    },
    {
     "data": {
      "text/plain": [
       "'Hello'"
      ]
     },
     "execution_count": 11,
     "metadata": {},
     "output_type": "execute_result"
    }
   ],
   "source": [
    "%%postcell OPEN_ME_FIRST_HELLO \n",
    "\"Hello\""
   ]
  },
  {
   "cell_type": "code",
   "execution_count": 12,
   "metadata": {},
   "outputs": [
    {
     "name": "stdout",
     "output_type": "stream",
     "text": [
      "Cell posted for evaluation\n"
     ]
    },
    {
     "data": {
      "text/plain": [
       "'How much programming experience do you have?'"
      ]
     },
     "execution_count": 12,
     "metadata": {},
     "output_type": "execute_result"
    }
   ],
   "source": [
    "%%postcell OPEN_ME_FIRST_EXPERIENCE \n",
    "\"How much programming experience do you have?\""
   ]
  },
  {
   "cell_type": "markdown",
   "metadata": {},
   "source": [
    "### Fun test, how fast is your machine?"
   ]
  },
  {
   "cell_type": "code",
   "execution_count": 13,
   "metadata": {
    "tags": []
   },
   "outputs": [
    {
     "name": "stdout",
     "output_type": "stream",
     "text": [
      "9.48 ms ± 71.8 μs per loop (mean ± std. dev. of 7 runs, 100 loops each)\n"
     ]
    }
   ],
   "source": [
    "%%timeit\n",
    "sum(range(1_000_000))"
   ]
  },
  {
   "cell_type": "markdown",
   "metadata": {},
   "source": [
    "### Paste the numeric value from the previous cell, along with a general description of you machine, on the next line"
   ]
  },
  {
   "cell_type": "code",
   "execution_count": 14,
   "metadata": {},
   "outputs": [
    {
     "name": "stdout",
     "output_type": "stream",
     "text": [
      "Cell posted for evaluation\n"
     ]
    },
    {
     "data": {
      "text/plain": [
       "'...'"
      ]
     },
     "execution_count": 14,
     "metadata": {},
     "output_type": "execute_result"
    }
   ],
   "source": [
    "%%postcell OPEN_ME_FIRST_MACHINE_PERFORMANCE \n",
    "\"...\""
   ]
  },
  {
   "cell_type": "markdown",
   "metadata": {},
   "source": [
    "### 5. Install other packages\n",
    "Since this is an introductory course and we are installing these packages to bootstrap the class.\n",
    "\n",
    "In later lectures or classes, we will learn that the proper way to do this is to:\n",
    "1. Create a separate environment\n",
    "2. Install packages in that environment, preferrably via a reporoducible  list, such as requirements.txt or env.yaml"
   ]
  },
  {
   "cell_type": "markdown",
   "metadata": {},
   "source": [
    "General tools"
   ]
  },
  {
   "cell_type": "code",
   "execution_count": 15,
   "metadata": {},
   "outputs": [
    {
     "name": "stdout",
     "output_type": "stream",
     "text": [
      "Requirement already satisfied: ipywidgets in /opt/anaconda3/envs/finm/lib/python3.13/site-packages (8.1.7)\n",
      "Requirement already satisfied: tqdm in /opt/anaconda3/envs/finm/lib/python3.13/site-packages (4.67.1)\n",
      "Requirement already satisfied: comm>=0.1.3 in /opt/anaconda3/envs/finm/lib/python3.13/site-packages (from ipywidgets) (0.2.3)\n",
      "Requirement already satisfied: ipython>=6.1.0 in /opt/anaconda3/envs/finm/lib/python3.13/site-packages (from ipywidgets) (9.5.0)\n",
      "Requirement already satisfied: traitlets>=4.3.1 in /opt/anaconda3/envs/finm/lib/python3.13/site-packages (from ipywidgets) (5.14.3)\n",
      "Requirement already satisfied: widgetsnbextension~=4.0.14 in /opt/anaconda3/envs/finm/lib/python3.13/site-packages (from ipywidgets) (4.0.14)\n",
      "Requirement already satisfied: jupyterlab_widgets~=3.0.15 in /opt/anaconda3/envs/finm/lib/python3.13/site-packages (from ipywidgets) (3.0.15)\n",
      "Requirement already satisfied: decorator in /opt/anaconda3/envs/finm/lib/python3.13/site-packages (from ipython>=6.1.0->ipywidgets) (5.2.1)\n",
      "Requirement already satisfied: ipython-pygments-lexers in /opt/anaconda3/envs/finm/lib/python3.13/site-packages (from ipython>=6.1.0->ipywidgets) (1.1.1)\n",
      "Requirement already satisfied: jedi>=0.16 in /opt/anaconda3/envs/finm/lib/python3.13/site-packages (from ipython>=6.1.0->ipywidgets) (0.19.2)\n",
      "Requirement already satisfied: matplotlib-inline in /opt/anaconda3/envs/finm/lib/python3.13/site-packages (from ipython>=6.1.0->ipywidgets) (0.1.7)\n",
      "Requirement already satisfied: pexpect>4.3 in /opt/anaconda3/envs/finm/lib/python3.13/site-packages (from ipython>=6.1.0->ipywidgets) (4.9.0)\n",
      "Requirement already satisfied: prompt_toolkit<3.1.0,>=3.0.41 in /opt/anaconda3/envs/finm/lib/python3.13/site-packages (from ipython>=6.1.0->ipywidgets) (3.0.52)\n",
      "Requirement already satisfied: pygments>=2.4.0 in /opt/anaconda3/envs/finm/lib/python3.13/site-packages (from ipython>=6.1.0->ipywidgets) (2.19.2)\n",
      "Requirement already satisfied: stack_data in /opt/anaconda3/envs/finm/lib/python3.13/site-packages (from ipython>=6.1.0->ipywidgets) (0.6.3)\n",
      "Requirement already satisfied: wcwidth in /opt/anaconda3/envs/finm/lib/python3.13/site-packages (from prompt_toolkit<3.1.0,>=3.0.41->ipython>=6.1.0->ipywidgets) (0.2.13)\n",
      "Requirement already satisfied: parso<0.9.0,>=0.8.4 in /opt/anaconda3/envs/finm/lib/python3.13/site-packages (from jedi>=0.16->ipython>=6.1.0->ipywidgets) (0.8.5)\n",
      "Requirement already satisfied: ptyprocess>=0.5 in /opt/anaconda3/envs/finm/lib/python3.13/site-packages (from pexpect>4.3->ipython>=6.1.0->ipywidgets) (0.7.0)\n",
      "Requirement already satisfied: executing>=1.2.0 in /opt/anaconda3/envs/finm/lib/python3.13/site-packages (from stack_data->ipython>=6.1.0->ipywidgets) (2.2.1)\n",
      "Requirement already satisfied: asttokens>=2.1.0 in /opt/anaconda3/envs/finm/lib/python3.13/site-packages (from stack_data->ipython>=6.1.0->ipywidgets) (3.0.0)\n",
      "Requirement already satisfied: pure_eval in /opt/anaconda3/envs/finm/lib/python3.13/site-packages (from stack_data->ipython>=6.1.0->ipywidgets) (0.2.3)\n"
     ]
    }
   ],
   "source": [
    "!pip install ipywidgets tqdm "
   ]
  },
  {
   "cell_type": "markdown",
   "metadata": {},
   "source": [
    "Visualization tools"
   ]
  },
  {
   "cell_type": "code",
   "execution_count": 16,
   "metadata": {},
   "outputs": [
    {
     "name": "stdout",
     "output_type": "stream",
     "text": [
      "Requirement already satisfied: seaborn in /opt/anaconda3/envs/finm/lib/python3.13/site-packages (0.13.2)\n",
      "Requirement already satisfied: bokeh in /opt/anaconda3/envs/finm/lib/python3.13/site-packages (3.8.0)\n",
      "Requirement already satisfied: altair[all] in /opt/anaconda3/envs/finm/lib/python3.13/site-packages (5.5.0)\n",
      "Requirement already satisfied: numpy!=1.24.0,>=1.20 in /opt/anaconda3/envs/finm/lib/python3.13/site-packages (from seaborn) (2.3.2)\n",
      "Requirement already satisfied: pandas>=1.2 in /opt/anaconda3/envs/finm/lib/python3.13/site-packages (from seaborn) (2.3.2)\n",
      "Requirement already satisfied: matplotlib!=3.6.1,>=3.4 in /opt/anaconda3/envs/finm/lib/python3.13/site-packages (from seaborn) (3.10.6)\n",
      "Requirement already satisfied: Jinja2>=2.9 in /opt/anaconda3/envs/finm/lib/python3.13/site-packages (from bokeh) (3.1.6)\n",
      "Requirement already satisfied: contourpy>=1.2 in /opt/anaconda3/envs/finm/lib/python3.13/site-packages (from bokeh) (1.3.3)\n",
      "Requirement already satisfied: narwhals>=1.13 in /opt/anaconda3/envs/finm/lib/python3.13/site-packages (from bokeh) (2.6.0)\n",
      "Requirement already satisfied: packaging>=16.8 in /opt/anaconda3/envs/finm/lib/python3.13/site-packages (from bokeh) (25.0)\n",
      "Requirement already satisfied: pillow>=7.1.0 in /opt/anaconda3/envs/finm/lib/python3.13/site-packages (from bokeh) (11.3.0)\n",
      "Requirement already satisfied: PyYAML>=3.10 in /opt/anaconda3/envs/finm/lib/python3.13/site-packages (from bokeh) (6.0.3)\n",
      "Requirement already satisfied: tornado>=6.2 in /opt/anaconda3/envs/finm/lib/python3.13/site-packages (from bokeh) (6.5.2)\n",
      "Requirement already satisfied: xyzservices>=2021.09.1 in /opt/anaconda3/envs/finm/lib/python3.13/site-packages (from bokeh) (2025.4.0)\n",
      "Requirement already satisfied: jsonschema>=3.0 in /opt/anaconda3/envs/finm/lib/python3.13/site-packages (from altair[all]) (4.25.1)\n",
      "Requirement already satisfied: typing-extensions>=4.10.0 in /opt/anaconda3/envs/finm/lib/python3.13/site-packages (from altair[all]) (4.15.0)\n",
      "Requirement already satisfied: altair-tiles>=0.3.0 in /opt/anaconda3/envs/finm/lib/python3.13/site-packages (from altair[all]) (0.4.0)\n",
      "Requirement already satisfied: anywidget>=0.9.0 in /opt/anaconda3/envs/finm/lib/python3.13/site-packages (from altair[all]) (0.9.18)\n",
      "Requirement already satisfied: pyarrow>=11 in /opt/anaconda3/envs/finm/lib/python3.13/site-packages (from altair[all]) (21.0.0)\n",
      "Requirement already satisfied: vega-datasets>=0.9.0 in /opt/anaconda3/envs/finm/lib/python3.13/site-packages (from altair[all]) (0.9.0)\n",
      "Requirement already satisfied: vegafusion>=1.6.6 in /opt/anaconda3/envs/finm/lib/python3.13/site-packages (from vegafusion[embed]>=1.6.6; extra == \"all\"->altair[all]) (2.0.3)\n",
      "Requirement already satisfied: vl-convert-python>=1.7.0 in /opt/anaconda3/envs/finm/lib/python3.13/site-packages (from altair[all]) (1.8.0)\n",
      "Requirement already satisfied: mercantile in /opt/anaconda3/envs/finm/lib/python3.13/site-packages (from altair-tiles>=0.3.0->altair[all]) (1.2.1)\n",
      "Requirement already satisfied: ipywidgets>=7.6.0 in /opt/anaconda3/envs/finm/lib/python3.13/site-packages (from anywidget>=0.9.0->altair[all]) (8.1.7)\n",
      "Requirement already satisfied: psygnal>=0.8.1 in /opt/anaconda3/envs/finm/lib/python3.13/site-packages (from anywidget>=0.9.0->altair[all]) (0.14.2)\n",
      "Requirement already satisfied: comm>=0.1.3 in /opt/anaconda3/envs/finm/lib/python3.13/site-packages (from ipywidgets>=7.6.0->anywidget>=0.9.0->altair[all]) (0.2.3)\n",
      "Requirement already satisfied: ipython>=6.1.0 in /opt/anaconda3/envs/finm/lib/python3.13/site-packages (from ipywidgets>=7.6.0->anywidget>=0.9.0->altair[all]) (9.5.0)\n",
      "Requirement already satisfied: traitlets>=4.3.1 in /opt/anaconda3/envs/finm/lib/python3.13/site-packages (from ipywidgets>=7.6.0->anywidget>=0.9.0->altair[all]) (5.14.3)\n",
      "Requirement already satisfied: widgetsnbextension~=4.0.14 in /opt/anaconda3/envs/finm/lib/python3.13/site-packages (from ipywidgets>=7.6.0->anywidget>=0.9.0->altair[all]) (4.0.14)\n",
      "Requirement already satisfied: jupyterlab_widgets~=3.0.15 in /opt/anaconda3/envs/finm/lib/python3.13/site-packages (from ipywidgets>=7.6.0->anywidget>=0.9.0->altair[all]) (3.0.15)\n",
      "Requirement already satisfied: decorator in /opt/anaconda3/envs/finm/lib/python3.13/site-packages (from ipython>=6.1.0->ipywidgets>=7.6.0->anywidget>=0.9.0->altair[all]) (5.2.1)\n",
      "Requirement already satisfied: ipython-pygments-lexers in /opt/anaconda3/envs/finm/lib/python3.13/site-packages (from ipython>=6.1.0->ipywidgets>=7.6.0->anywidget>=0.9.0->altair[all]) (1.1.1)\n",
      "Requirement already satisfied: jedi>=0.16 in /opt/anaconda3/envs/finm/lib/python3.13/site-packages (from ipython>=6.1.0->ipywidgets>=7.6.0->anywidget>=0.9.0->altair[all]) (0.19.2)\n",
      "Requirement already satisfied: matplotlib-inline in /opt/anaconda3/envs/finm/lib/python3.13/site-packages (from ipython>=6.1.0->ipywidgets>=7.6.0->anywidget>=0.9.0->altair[all]) (0.1.7)\n",
      "Requirement already satisfied: pexpect>4.3 in /opt/anaconda3/envs/finm/lib/python3.13/site-packages (from ipython>=6.1.0->ipywidgets>=7.6.0->anywidget>=0.9.0->altair[all]) (4.9.0)\n",
      "Requirement already satisfied: prompt_toolkit<3.1.0,>=3.0.41 in /opt/anaconda3/envs/finm/lib/python3.13/site-packages (from ipython>=6.1.0->ipywidgets>=7.6.0->anywidget>=0.9.0->altair[all]) (3.0.52)\n",
      "Requirement already satisfied: pygments>=2.4.0 in /opt/anaconda3/envs/finm/lib/python3.13/site-packages (from ipython>=6.1.0->ipywidgets>=7.6.0->anywidget>=0.9.0->altair[all]) (2.19.2)\n",
      "Requirement already satisfied: stack_data in /opt/anaconda3/envs/finm/lib/python3.13/site-packages (from ipython>=6.1.0->ipywidgets>=7.6.0->anywidget>=0.9.0->altair[all]) (0.6.3)\n",
      "Requirement already satisfied: wcwidth in /opt/anaconda3/envs/finm/lib/python3.13/site-packages (from prompt_toolkit<3.1.0,>=3.0.41->ipython>=6.1.0->ipywidgets>=7.6.0->anywidget>=0.9.0->altair[all]) (0.2.13)\n",
      "Requirement already satisfied: parso<0.9.0,>=0.8.4 in /opt/anaconda3/envs/finm/lib/python3.13/site-packages (from jedi>=0.16->ipython>=6.1.0->ipywidgets>=7.6.0->anywidget>=0.9.0->altair[all]) (0.8.5)\n",
      "Requirement already satisfied: MarkupSafe>=2.0 in /opt/anaconda3/envs/finm/lib/python3.13/site-packages (from Jinja2>=2.9->bokeh) (3.0.3)\n",
      "Requirement already satisfied: attrs>=22.2.0 in /opt/anaconda3/envs/finm/lib/python3.13/site-packages (from jsonschema>=3.0->altair[all]) (25.3.0)\n",
      "Requirement already satisfied: jsonschema-specifications>=2023.03.6 in /opt/anaconda3/envs/finm/lib/python3.13/site-packages (from jsonschema>=3.0->altair[all]) (2025.9.1)\n",
      "Requirement already satisfied: referencing>=0.28.4 in /opt/anaconda3/envs/finm/lib/python3.13/site-packages (from jsonschema>=3.0->altair[all]) (0.36.2)\n",
      "Requirement already satisfied: rpds-py>=0.7.1 in /opt/anaconda3/envs/finm/lib/python3.13/site-packages (from jsonschema>=3.0->altair[all]) (0.27.1)\n",
      "Requirement already satisfied: cycler>=0.10 in /opt/anaconda3/envs/finm/lib/python3.13/site-packages (from matplotlib!=3.6.1,>=3.4->seaborn) (0.12.1)\n",
      "Requirement already satisfied: fonttools>=4.22.0 in /opt/anaconda3/envs/finm/lib/python3.13/site-packages (from matplotlib!=3.6.1,>=3.4->seaborn) (4.59.2)\n",
      "Requirement already satisfied: kiwisolver>=1.3.1 in /opt/anaconda3/envs/finm/lib/python3.13/site-packages (from matplotlib!=3.6.1,>=3.4->seaborn) (1.4.9)\n",
      "Requirement already satisfied: pyparsing>=2.3.1 in /opt/anaconda3/envs/finm/lib/python3.13/site-packages (from matplotlib!=3.6.1,>=3.4->seaborn) (3.2.3)\n",
      "Requirement already satisfied: python-dateutil>=2.7 in /opt/anaconda3/envs/finm/lib/python3.13/site-packages (from matplotlib!=3.6.1,>=3.4->seaborn) (2.9.0.post0)\n",
      "Requirement already satisfied: pytz>=2020.1 in /opt/anaconda3/envs/finm/lib/python3.13/site-packages (from pandas>=1.2->seaborn) (2025.2)\n",
      "Requirement already satisfied: tzdata>=2022.7 in /opt/anaconda3/envs/finm/lib/python3.13/site-packages (from pandas>=1.2->seaborn) (2025.2)\n",
      "Requirement already satisfied: ptyprocess>=0.5 in /opt/anaconda3/envs/finm/lib/python3.13/site-packages (from pexpect>4.3->ipython>=6.1.0->ipywidgets>=7.6.0->anywidget>=0.9.0->altair[all]) (0.7.0)\n",
      "Requirement already satisfied: six>=1.5 in /opt/anaconda3/envs/finm/lib/python3.13/site-packages (from python-dateutil>=2.7->matplotlib!=3.6.1,>=3.4->seaborn) (1.17.0)\n",
      "Requirement already satisfied: arro3-core in /opt/anaconda3/envs/finm/lib/python3.13/site-packages (from vegafusion>=1.6.6->vegafusion[embed]>=1.6.6; extra == \"all\"->altair[all]) (0.6.3)\n",
      "Requirement already satisfied: click>=3.0 in /opt/anaconda3/envs/finm/lib/python3.13/site-packages (from mercantile->altair-tiles>=0.3.0->altair[all]) (8.3.0)\n",
      "Requirement already satisfied: executing>=1.2.0 in /opt/anaconda3/envs/finm/lib/python3.13/site-packages (from stack_data->ipython>=6.1.0->ipywidgets>=7.6.0->anywidget>=0.9.0->altair[all]) (2.2.1)\n",
      "Requirement already satisfied: asttokens>=2.1.0 in /opt/anaconda3/envs/finm/lib/python3.13/site-packages (from stack_data->ipython>=6.1.0->ipywidgets>=7.6.0->anywidget>=0.9.0->altair[all]) (3.0.0)\n",
      "Requirement already satisfied: pure_eval in /opt/anaconda3/envs/finm/lib/python3.13/site-packages (from stack_data->ipython>=6.1.0->ipywidgets>=7.6.0->anywidget>=0.9.0->altair[all]) (0.2.3)\n"
     ]
    }
   ],
   "source": [
    "!pip install seaborn bokeh \"altair[all]\""
   ]
  },
  {
   "cell_type": "markdown",
   "metadata": {},
   "source": [
    "Code quality tools"
   ]
  },
  {
   "cell_type": "code",
   "execution_count": 17,
   "metadata": {},
   "outputs": [
    {
     "name": "stdout",
     "output_type": "stream",
     "text": [
      "Requirement already satisfied: pylint in /opt/anaconda3/envs/finm/lib/python3.13/site-packages (3.3.8)\n",
      "Requirement already satisfied: pytest in /opt/anaconda3/envs/finm/lib/python3.13/site-packages (8.4.2)\n",
      "Requirement already satisfied: mypy in /opt/anaconda3/envs/finm/lib/python3.13/site-packages (1.18.2)\n",
      "Requirement already satisfied: ruff in /opt/anaconda3/envs/finm/lib/python3.13/site-packages (0.13.2)\n",
      "Requirement already satisfied: black in /opt/anaconda3/envs/finm/lib/python3.13/site-packages (25.9.0)\n",
      "Requirement already satisfied: astroid<=3.4.0.dev0,>=3.3.8 in /opt/anaconda3/envs/finm/lib/python3.13/site-packages (from pylint) (3.3.11)\n",
      "Requirement already satisfied: dill>=0.3.6 in /opt/anaconda3/envs/finm/lib/python3.13/site-packages (from pylint) (0.4.0)\n",
      "Requirement already satisfied: isort!=5.13,<7,>=4.2.5 in /opt/anaconda3/envs/finm/lib/python3.13/site-packages (from pylint) (6.0.1)\n",
      "Requirement already satisfied: mccabe<0.8,>=0.6 in /opt/anaconda3/envs/finm/lib/python3.13/site-packages (from pylint) (0.7.0)\n",
      "Requirement already satisfied: platformdirs>=2.2 in /opt/anaconda3/envs/finm/lib/python3.13/site-packages (from pylint) (4.4.0)\n",
      "Requirement already satisfied: tomlkit>=0.10.1 in /opt/anaconda3/envs/finm/lib/python3.13/site-packages (from pylint) (0.13.3)\n",
      "Requirement already satisfied: iniconfig>=1 in /opt/anaconda3/envs/finm/lib/python3.13/site-packages (from pytest) (2.1.0)\n",
      "Requirement already satisfied: packaging>=20 in /opt/anaconda3/envs/finm/lib/python3.13/site-packages (from pytest) (25.0)\n",
      "Requirement already satisfied: pluggy<2,>=1.5 in /opt/anaconda3/envs/finm/lib/python3.13/site-packages (from pytest) (1.6.0)\n",
      "Requirement already satisfied: pygments>=2.7.2 in /opt/anaconda3/envs/finm/lib/python3.13/site-packages (from pytest) (2.19.2)\n",
      "Requirement already satisfied: typing_extensions>=4.6.0 in /opt/anaconda3/envs/finm/lib/python3.13/site-packages (from mypy) (4.15.0)\n",
      "Requirement already satisfied: mypy_extensions>=1.0.0 in /opt/anaconda3/envs/finm/lib/python3.13/site-packages (from mypy) (1.1.0)\n",
      "Requirement already satisfied: pathspec>=0.9.0 in /opt/anaconda3/envs/finm/lib/python3.13/site-packages (from mypy) (0.12.1)\n",
      "Requirement already satisfied: click>=8.0.0 in /opt/anaconda3/envs/finm/lib/python3.13/site-packages (from black) (8.3.0)\n",
      "Requirement already satisfied: pytokens>=0.1.10 in /opt/anaconda3/envs/finm/lib/python3.13/site-packages (from black) (0.1.10)\n"
     ]
    }
   ],
   "source": [
    "!pip install pylint pytest mypy ruff black"
   ]
  },
  {
   "cell_type": "markdown",
   "metadata": {},
   "source": [
    "Additional packages"
   ]
  },
  {
   "cell_type": "code",
   "execution_count": 18,
   "metadata": {},
   "outputs": [],
   "source": [
    "#!pip install \"fastapi[standard]\""
   ]
  },
  {
   "cell_type": "code",
   "execution_count": 19,
   "metadata": {},
   "outputs": [],
   "source": [
    "# Add kernel\n",
    "\n",
    "#conda activate py310\n",
    "#python -m ipykernel install --user --name=\"py310\""
   ]
  }
 ],
 "metadata": {
  "kernelspec": {
   "display_name": "finm",
   "language": "python",
   "name": "python3"
  },
  "language_info": {
   "codemirror_mode": {
    "name": "ipython",
    "version": 3
   },
   "file_extension": ".py",
   "mimetype": "text/x-python",
   "name": "python",
   "nbconvert_exporter": "python",
   "pygments_lexer": "ipython3",
   "version": "3.13.5"
  }
 },
 "nbformat": 4,
 "nbformat_minor": 4
}
